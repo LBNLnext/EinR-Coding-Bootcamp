{
 "cells": [
  {
   "cell_type": "markdown",
   "metadata": {},
   "source": [
    "\n",
    "----\n",
    "\n",
    "# Data Visualization\n",
    "\n",
    "\n",
    "\n",
    "---\n",
    "\n",
    "### Table of Contents\n",
    "\n",
    "\n",
    "1 - [Matplotlib](#section1)<br>\n",
    "\n",
    "&nbsp;&nbsp;&nbsp;&nbsp;&nbsp;&nbsp; 1.1 - [Line Plots](#subsection1)<br>\n",
    "\n",
    "&nbsp;&nbsp;&nbsp;&nbsp;&nbsp;&nbsp; 1.2 - [Scatter Plots](#subsection2)<br>\n",
    "\n",
    "&nbsp;&nbsp;&nbsp;&nbsp;&nbsp;&nbsp; 1.3 - [Bar Plots](#subsection3)<br>\n",
    "\n",
    "&nbsp;&nbsp;&nbsp;&nbsp;&nbsp;&nbsp; 1.4 - [Histograms](#subsection4)<br>\n",
    "\n",
    "2 - [Working with Data](#section2)<br>\n",
    "\n"
   ]
  },
  {
   "cell_type": "markdown",
   "metadata": {},
   "source": [
    "## Matplotlib <a id='section1'></a>"
   ]
  },
  {
   "cell_type": "markdown",
   "metadata": {},
   "source": [
    "We'll create visualizations in Python using a popular Python package called matplotlib. Let's import matplotlib along with several other Python libraries that we will be using:"
   ]
  },
  {
   "cell_type": "code",
   "execution_count": null,
   "metadata": {},
   "outputs": [],
   "source": [
    "import math\n",
    "import numpy as np\n",
    "import matplotlib as mpl\n",
    "import matplotlib.pyplot as plt"
   ]
  },
  {
   "cell_type": "markdown",
   "metadata": {},
   "source": [
    "To plot something, we need data! To begin, we will use very simple arrays. Let's try plotting just two points, (x1, y1) = (1,1); (x2, y2) = (5,5)"
   ]
  },
  {
   "cell_type": "code",
   "execution_count": null,
   "metadata": {},
   "outputs": [],
   "source": [
    "# EXAMPLE\n",
    "\n",
    "xpoints = np.array([1,5])\n",
    "ypoints = np.array([1,5])\n",
    "\n",
    "plt.plot(xpoints, ypoints);"
   ]
  },
  {
   "cell_type": "markdown",
   "metadata": {},
   "source": [
    "**Quick note**: Use a semicolon `;` at the end of the last line in a Jupyter notebook cell to suppress the notebooks from printing the return value of the last line. Try removing the semicolon in the above cell and see how the output changes."
   ]
  },
  {
   "cell_type": "markdown",
   "metadata": {},
   "source": [
    "You can use the keyword argument `marker` to specify each point:"
   ]
  },
  {
   "cell_type": "code",
   "execution_count": null,
   "metadata": {},
   "outputs": [],
   "source": [
    "# EXAMPLE\n",
    "\n",
    "plt.plot(xpoints, ypoints, marker='o');"
   ]
  },
  {
   "cell_type": "markdown",
   "metadata": {},
   "source": [
    "There are other markers that you can find in [matplotlib's documentation page](https://matplotlib.org/stable/api/markers_api.html).\n",
    "\n",
    "Choose a marker from the documentation page and try it out below!"
   ]
  },
  {
   "cell_type": "code",
   "execution_count": null,
   "metadata": {},
   "outputs": [],
   "source": [
    "# EXERCISE - Try plotting with a marker of your choice:\n",
    "\n",
    "plt.plot(xpoints, ypoints, marker=...);"
   ]
  },
  {
   "cell_type": "markdown",
   "metadata": {},
   "source": [
    "Without the marker keyword, you can plot without a connecting line:"
   ]
  },
  {
   "cell_type": "code",
   "execution_count": null,
   "metadata": {},
   "outputs": [],
   "source": [
    "# EXAMPLE\n",
    "\n",
    "plt.plot(xpoints, ypoints, '^');"
   ]
  },
  {
   "cell_type": "markdown",
   "metadata": {},
   "source": [
    "### 1.1 Line Plots <a id='subsection1'></a>"
   ]
  },
  {
   "cell_type": "markdown",
   "metadata": {},
   "source": [
    "We've actually created line plots above, but let's go further. Any good plot needs to have a title, x and y axis labels:"
   ]
  },
  {
   "cell_type": "code",
   "execution_count": null,
   "metadata": {},
   "outputs": [],
   "source": [
    "# EXAMPLE\n",
    "\n",
    "time = np.array([0, 5, 10, 15, 20])\n",
    "distance = np.array([0, 12.5, 50, 112.5, 200])\n",
    "\n",
    "plt.title('Distance over Time')\n",
    "plt.xlabel('Time (s)')\n",
    "plt.ylabel('Distance (m)')\n",
    "plt.plot(time, distance);"
   ]
  },
  {
   "cell_type": "code",
   "execution_count": null,
   "metadata": {},
   "outputs": [],
   "source": [
    "# EXAMPLE - even more customization with colors and linewidth\n",
    "\n",
    "time = np.array([0, 5, 10, 15, 20])\n",
    "distance = np.array([0, 12.5, 50, 112.5, 200])\n",
    "\n",
    "plt.title('Distance over Time')\n",
    "plt.xlabel('Time (s)')\n",
    "plt.ylabel('Distance (m)')\n",
    "plt.plot(time, distance, linewidth='5', color='darkmagenta');"
   ]
  },
  {
   "cell_type": "markdown",
   "metadata": {},
   "source": [
    "You can find a table of colors [here](https://www.w3schools.com/colors/colors_names.asp). Note that you can use either the color names like above or the hexademical value (for example the hexadecimal value for Dark Magenta is #8B008B)."
   ]
  },
  {
   "cell_type": "markdown",
   "metadata": {},
   "source": [
    "### 1.2 Scatter Plots <a id='subsection2'></a>"
   ]
  },
  {
   "cell_type": "markdown",
   "metadata": {},
   "source": [
    "Scatter plots are useful when you are looking for a relationship between two variables.\n",
    "\n",
    "We can use the `scatter()` function to draw a scatter plot:"
   ]
  },
  {
   "cell_type": "code",
   "execution_count": null,
   "metadata": {},
   "outputs": [],
   "source": [
    "# EXAMPLE\n",
    "\n",
    "plt.title('Distance over Time')\n",
    "plt.xlabel('Time (s)')\n",
    "plt.ylabel('Distance (m)')\n",
    "plt.scatter(time, distance);"
   ]
  },
  {
   "cell_type": "code",
   "execution_count": null,
   "metadata": {},
   "outputs": [],
   "source": [
    "# EXAMPLE - Two data sets\n",
    "\n",
    "time2 = np.array([0, 5, 10, 15, 20])\n",
    "distance2 = np.array([0, 50, 100, 150, 200])\n",
    "\n",
    "plt.title('Distance over Time')\n",
    "plt.xlabel('Time (s)')\n",
    "plt.ylabel('Distance (m)')\n",
    "plt.scatter(time, distance, color='red'); #Similar to before you can change the color\n",
    "plt.scatter(time2, distance2, color='blue');"
   ]
  },
  {
   "cell_type": "markdown",
   "metadata": {},
   "source": [
    "For the exercise below, you are given data points for average temperature (in Fahrenheit) and average humidity (in %) for Berkeley over 12 months (data from [Climate-Data.org](https://en.climate-data.org/north-america/united-states-of-america/california/berkeley-1266/). Make a two scatter plots - one for each data set. Don't forget the plot title and axes labels."
   ]
  },
  {
   "cell_type": "code",
   "execution_count": null,
   "metadata": {},
   "outputs": [],
   "source": [
    "#Data sets for the exercise\n",
    "\n",
    "months = np.array([\"Jan\", \"Feb\", \"Mar\", \"Apr\", \"May\", \"Jun\", \"Jul\", \"Aug\", \"Sep\", \"Oct\", \"Nov\", \"Dec\"])\n",
    "temperature = np.array([48.1, 49.9, 52.7, 55.3, 59.5, 63.9, 64.6, 64.9, 65, 61.3, 54, 48.6])\n",
    "humidity = np.array([77, 78, 74, 66, 62, 60, 65, 66, 62, 63, 72, 76])"
   ]
  },
  {
   "cell_type": "code",
   "execution_count": null,
   "metadata": {},
   "outputs": [],
   "source": [
    "# EXERCISE - Create a scatter plot for Berkeley's average temperature data\n",
    "\n"
   ]
  },
  {
   "cell_type": "code",
   "execution_count": null,
   "metadata": {},
   "outputs": [],
   "source": [
    "# EXERCISE - Create a scatter plot for Berkeley's average humidity data\n",
    "\n"
   ]
  },
  {
   "cell_type": "markdown",
   "metadata": {},
   "source": [
    "### 1.3 Bar Plots <a id='subsection3'></a>"
   ]
  },
  {
   "cell_type": "markdown",
   "metadata": {},
   "source": [
    "Bar plots represent categorical data with rectangular bars (vertical or horizontal) that are proportional to the values they represent."
   ]
  },
  {
   "cell_type": "code",
   "execution_count": null,
   "metadata": {},
   "outputs": [],
   "source": [
    "# EXAMPLE\n",
    "\n",
    "courses = np.array([\"C\", \"C++\", \"Fortran\", \"Java\", \"MATLAB\", \"Python\"])\n",
    "students = np.array([10, 20, 5, 30, 30, 50])\n",
    "\n",
    "plt.title('Number of students enrolled in coding classes')\n",
    "plt.xlabel('Coding Courses')\n",
    "plt.ylabel('Number of Students')\n",
    "plt.bar(courses, students);"
   ]
  },
  {
   "cell_type": "code",
   "execution_count": null,
   "metadata": {},
   "outputs": [],
   "source": [
    "#EXAMPLE - same data but horizontal\n",
    "\n",
    "plt.title('Number of students enrolled in coding classes')\n",
    "plt.xlabel('Coding Courses')\n",
    "plt.ylabel('Number of Students')\n",
    "plt.barh(courses, students);"
   ]
  },
  {
   "cell_type": "markdown",
   "metadata": {},
   "source": [
    "### 1.4 Histograms <a id='subsection4'></a>"
   ]
  },
  {
   "cell_type": "markdown",
   "metadata": {},
   "source": [
    "A histogram is a common data distribution chart that is used to show the frequency with which specific values, or values within ranges, occur in a set of data.\n",
    "\n",
    "The horizontal axis of a histogram displays the number range and the vertical axis represents the amount of data (frequency) that is present in each range."
   ]
  },
  {
   "cell_type": "code",
   "execution_count": null,
   "metadata": {},
   "outputs": [],
   "source": [
    "# EXAMPLE\n",
    "\n",
    "hoursSlept = np.array([3, 4, 5, 5, 5, 6, 6, 7, 7, 7, 7, 7, 8, 8, 8, 8, 9, 10, 10, 11, 12])\n",
    "\n",
    "plt.title('Number of Hours Slept for A Class of 11th Graders')\n",
    "plt.xlabel('Number of Hours')\n",
    "plt.ylabel('Frequency')\n",
    "plt.hist(hoursSlept);"
   ]
  },
  {
   "cell_type": "markdown",
   "metadata": {},
   "source": [
    "Each bar in the histogram is called a bin. The default is 10 bins. Run the code below to see what happens when we reduce the number of bins to 5. What do you notice?"
   ]
  },
  {
   "cell_type": "code",
   "execution_count": null,
   "metadata": {},
   "outputs": [],
   "source": [
    "plt.title('Number of Hours Slept for A Class of 11th Graders')\n",
    "plt.xlabel('Number of Hours')\n",
    "plt.ylabel('Frequency')\n",
    "plt.hist(hoursSlept, bins=5);"
   ]
  },
  {
   "cell_type": "markdown",
   "metadata": {},
   "source": [
    "There is no \"right\" way to display a histogram, but it's important to keep in mind that some bin counts convey more information than others. For example, reducing the bin size even further to 2, we can see that we don't get a good grasp on the distribution of hours slept:"
   ]
  },
  {
   "cell_type": "code",
   "execution_count": null,
   "metadata": {},
   "outputs": [],
   "source": [
    "plt.title('Number of Hours Slept for A Class of 11th Graders')\n",
    "plt.xlabel('Number of Hours')\n",
    "plt.ylabel('Frequency')\n",
    "plt.hist(hoursSlept, bins=2);"
   ]
  },
  {
   "cell_type": "code",
   "execution_count": null,
   "metadata": {},
   "outputs": [],
   "source": [
    "# EXERCISE - play around with the bin size for this histogram with random numbers.\n",
    "# Which bin size do you prefer?\n",
    "\n",
    "x = np.random.normal(size=10000)\n",
    "plt.hist(x);"
   ]
  },
  {
   "cell_type": "markdown",
   "metadata": {},
   "source": [
    "## Working with Data <a id='subsection2'></a>"
   ]
  },
  {
   "cell_type": "markdown",
   "metadata": {},
   "source": [
    "Now let's try working with real data! For this example we will use the data of the brightness of a supernova (an exploding star), SN 1998aq. By plotting the brightness of the supernova over time, we can obtain light curves.\n",
    "\n",
    "Light curves of one type of supernova, type Ia, were significant in leading them to be used as \"standard candles\" - used to accurately measure distances in the universe. By looking at how fast they brighten and fade through light curves, astronomers can calculate distances. This was significant in the discovery of dark energy, the mysterious energy that is causing the accelerating expansion of the universe. Dr. Saul Perlmutter, astrophysicist at Berkeley Lab, was one of the winners of the 2011 Nobel Prize in Physics for this discovery.\n",
    "\n",
    "*If you're curious to know more, [this quick video on type Ia supernovae](https://www.youtube.com/watch?v=jlqnKu82UxU) is a good starting point. For a more advanced overview article, check out ['Supernovae, Dark Energy, and the Universe'](https://supernova.lbl.gov/PDFs/PhysicsTodayArticle.pdf) written by Dr. Saul Perlmutter.*\n",
    "\n"
   ]
  },
  {
   "cell_type": "markdown",
   "metadata": {},
   "source": [
    "<img src=\"images/riessetal2005fig3.jpg\">"
   ]
  },
  {
   "cell_type": "markdown",
   "metadata": {},
   "source": [
    "*Above figure and data from [Riess et al. 2005, ApJ 627, 579](https://ui.adsabs.harvard.edu/abs/2005ApJ...627..579R/abstract)*"
   ]
  },
  {
   "cell_type": "markdown",
   "metadata": {},
   "source": [
    "To read in the data we will call another Python library called `pandas`. `pandas` allows us to use DataFrame objects which organizes data in a tabular form (like Google/Excel spreadsheets). Let's import the library:"
   ]
  },
  {
   "cell_type": "code",
   "execution_count": null,
   "metadata": {},
   "outputs": [],
   "source": [
    "import pandas as pd"
   ]
  },
  {
   "cell_type": "markdown",
   "metadata": {},
   "source": [
    "To read in a `.csv` file we simply use `pd.read_csv`. This `.csv` file happens to be tab-delimited, so we need to specify `sep=\\t`. We will also skip the first 3 rows."
   ]
  },
  {
   "cell_type": "code",
   "execution_count": null,
   "metadata": {},
   "outputs": [],
   "source": [
    "sn = pd.read_csv('data/sn1998aq_UBVRI.tsv', sep='\\t', skiprows=3)"
   ]
  },
  {
   "cell_type": "markdown",
   "metadata": {},
   "source": [
    "To look at the first few rows of the dataset we'll use the `.head()` method:"
   ]
  },
  {
   "cell_type": "code",
   "execution_count": null,
   "metadata": {},
   "outputs": [],
   "source": [
    "sn.head()"
   ]
  },
  {
   "cell_type": "markdown",
   "metadata": {},
   "source": [
    "What are we looking at?\n",
    "* JD - 2450000 is the Julian Date - 2450000. Astronomers simply count days (instead of dealing with months, years, leap years, etc.) and often use the Julian Date (if you are interested to learn more, [see here](https://www.aavso.org/about-jd)).\n",
    "* U, B, V, R, I - Magnitudes (brightness) of the supernova measured in different filters. Although a bit counterintuitive, the smaller the magnitude, the brighter the supernova. Filters are used to look at specific colors in observational astronomy: U stands for ultraviolet, B for blue, V for visible, R for red, and I for infrared.\n",
    "* Uerr, Berr, Verr, Rerr, Ierr - the uncertainty associated with each magnitude measurement."
   ]
  },
  {
   "cell_type": "markdown",
   "metadata": {},
   "source": [
    "A common problem that you will come across when analyzing data is __missing__ data. You can check if you data set contains by using the function `.isnull()`. This function returns True whenever a values is missing (Null, NaN) and False whenever it is not. We can combine this function with `.sum()` to add up all the values that are True  & False.\n",
    "\n",
    "In Python (as in most programming languages), True is represented by 1, and False by 0. So using the `sum` function allows us to treat these True/False as numerical values. \n",
    "\n",
    "Let's check if our data has any missing data:"
   ]
  },
  {
   "cell_type": "code",
   "execution_count": null,
   "metadata": {},
   "outputs": [],
   "source": [
    "sn.isnull().sum()"
   ]
  },
  {
   "cell_type": "markdown",
   "metadata": {},
   "source": [
    "Phew! Seems like we got a data set with no missing values!"
   ]
  },
  {
   "cell_type": "markdown",
   "metadata": {},
   "source": [
    "**Challenge:** Create plots for data from each filter (you can ignore the uncertainty values for now). The goal of your plots is to show how the magnitude (brightness) of the supernova changes over time. You can use one plot, but make sure to differentiate between different magnitude filters using the `color` argument (see for example 1.1 Line Plots and 1.2 Scatter Plots).\n",
    "\n",
    "Before starting to code, discuss with your group what type of plot will make the most sense for this data. Check in with your instructor before moving on!"
   ]
  },
  {
   "cell_type": "code",
   "execution_count": null,
   "metadata": {},
   "outputs": [],
   "source": [
    "# CHALLENGE\n",
    "\n",
    "# Here are arrays that you can use for the days and magnitudes:\n",
    "days = sn['JD-2450000']\n",
    "magU = sn['U']\n",
    "magB = sn['B']\n",
    "magV = sn['V']\n",
    "magR = sn['R']\n",
    "magI = sn['I']\n",
    "\n",
    "#Code to invert the y-axis so it starts at magnitude 17 and goes until magnitude 11.\n",
    "#This is needed as the brighter the supernova, the smaller the magnitude.\n",
    "plt.ylim(17,11)\n",
    "\n",
    "# Your code below. Don't forget to add a title and label your axes.\n",
    "\n"
   ]
  },
  {
   "cell_type": "markdown",
   "metadata": {},
   "source": [
    "### Bonus - Error Bars"
   ]
  },
  {
   "cell_type": "markdown",
   "metadata": {},
   "source": [
    "The data set had columns for uncertainties for the magnitude measurements. Matplotlib can also create plots with error bars through the `plt.errorbar()` function.\n",
    "\n",
    "Note for this example we zoomed in towards the rise of the light curve as the error bars are quite small."
   ]
  },
  {
   "cell_type": "code",
   "execution_count": null,
   "metadata": {},
   "outputs": [],
   "source": [
    "# EXAMPLE\n",
    "\n",
    "# Reading in uncertainty measurements:\n",
    "magUerr = sn['Uerr']\n",
    "magBerr = sn['Berr']\n",
    "magVerr = sn['Verr']\n",
    "magRerr = sn['Rerr']\n",
    "magIerr = sn['Ierr']\n",
    "\n",
    "#You can change these values to see more/less of the graph\n",
    "plt.ylim(14, 12)\n",
    "plt.xlim(920,930)\n",
    "\n",
    "plt.title('SN 1998aq B Light Curve')\n",
    "plt.xlabel('JD-2450000 (days)')\n",
    "plt.ylabel('B mag')\n",
    "plt.errorbar(days, magB, yerr=magBerr, fmt='.', capsize=2, elinewidth=2);"
   ]
  },
  {
   "cell_type": "markdown",
   "metadata": {},
   "source": [
    "## Exploring Python data visualization further..."
   ]
  },
  {
   "cell_type": "markdown",
   "metadata": {},
   "source": [
    "We've only looked at matplotlib (and not even fully explored all its features!) Another popular data visualization library is [seaborn](https://seaborn.pydata.org/). There is also [Plotly](https://plot.ly/python/) and [Bokeh](http://bokeh.pydata.org/en/latest/) which can create interactive visualizations."
   ]
  },
  {
   "cell_type": "markdown",
   "metadata": {},
   "source": [
    "---\n",
    "Notebook developed by: Alisa Bettale"
   ]
  }
 ],
 "metadata": {
  "hide_input": false,
  "kernelspec": {
   "display_name": "Python 3",
   "language": "python",
   "name": "python3"
  },
  "language_info": {
   "codemirror_mode": {
    "name": "ipython",
    "version": 3
   },
   "file_extension": ".py",
   "mimetype": "text/x-python",
   "name": "python",
   "nbconvert_exporter": "python",
   "pygments_lexer": "ipython3",
   "version": "3.8.8"
  },
  "toc": {
   "base_numbering": 1,
   "nav_menu": {},
   "number_sections": false,
   "sideBar": true,
   "skip_h1_title": false,
   "title_cell": "Table of Contents",
   "title_sidebar": "Contents",
   "toc_cell": false,
   "toc_position": {
    "height": "calc(100% - 180px)",
    "left": "10px",
    "top": "150px",
    "width": "384px"
   },
   "toc_section_display": true,
   "toc_window_display": false
  },
  "varInspector": {
   "cols": {
    "lenName": 16,
    "lenType": 16,
    "lenVar": 40
   },
   "kernels_config": {
    "python": {
     "delete_cmd_postfix": "",
     "delete_cmd_prefix": "del ",
     "library": "var_list.py",
     "varRefreshCmd": "print(var_dic_list())"
    },
    "r": {
     "delete_cmd_postfix": ") ",
     "delete_cmd_prefix": "rm(",
     "library": "var_list.r",
     "varRefreshCmd": "cat(var_dic_list()) "
    }
   },
   "types_to_exclude": [
    "module",
    "function",
    "builtin_function_or_method",
    "instance",
    "_Feature"
   ],
   "window_display": false
  }
 },
 "nbformat": 4,
 "nbformat_minor": 4
}
