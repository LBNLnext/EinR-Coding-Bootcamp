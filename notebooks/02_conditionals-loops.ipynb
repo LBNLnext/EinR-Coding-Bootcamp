{
 "cells": [
  {
   "cell_type": "markdown",
   "metadata": {
    "id": "QULY5UK0RNyg"
   },
   "source": [
    "\n",
    "------\n",
    "\n",
    "# Conditionals, Loops\n",
    "\n",
    "\n",
    "\n",
    "\n",
    "\n",
    "### Table of Contents\n",
    "\n",
    "\n",
    "1 - [Conditionals](#section1)<br>  \n",
    "\n",
    "&nbsp;&nbsp;&nbsp;&nbsp;&nbsp;&nbsp; 1.1 - [Booleans and Comparison Operators](#subsection1)<br>\n",
    "\n",
    "&nbsp;&nbsp;&nbsp;&nbsp;&nbsp;&nbsp; 1.2 - [Conditional Statements](#subsection2)<br>\n",
    "\n",
    "2 - [Loops](#section2) <br>\n",
    "\n",
    "&nbsp;&nbsp;&nbsp;&nbsp;&nbsp;&nbsp; 2.1 - [For Loops](#subsection3)<br>\n",
    "\n",
    "&nbsp;&nbsp;&nbsp;&nbsp;&nbsp;&nbsp; 2.2 - [While Loops](#subsection4)<br>\n",
    "\n"
   ]
  },
  {
   "cell_type": "code",
   "execution_count": null,
   "metadata": {},
   "outputs": [],
   "source": [
    "#Make sure to import the math library\n",
    "\n",
    "import math"
   ]
  },
  {
   "cell_type": "markdown",
   "metadata": {
    "id": "MPx-XdDyRNyl"
   },
   "source": [
    "---\n",
    "# Conditionals <a id='section1'></a>"
   ]
  },
  {
   "cell_type": "markdown",
   "metadata": {
    "id": "0hXQSpRPRNym"
   },
   "source": [
    "Instead of a sequential execution, we often need to execute a specific code based on a condition. It also helps in decision-making, preferably when we prefer to execute a piece of code only if certain conditionals are met."
   ]
  },
  {
   "cell_type": "markdown",
   "metadata": {},
   "source": [
    "## 1.1 Booleans and Comparison Operators <a id='subsection1'></a>"
   ]
  },
  {
   "cell_type": "markdown",
   "metadata": {},
   "source": [
    "Booleans can only take **True** or **False** values. They represent the \"truth\" values in a logical expression, and can help us answer questions that require a binary responses (either yes or no) whenever a given condition is or is not met."
   ]
  },
  {
   "cell_type": "code",
   "execution_count": null,
   "metadata": {
    "id": "kQbZoU5SRNym"
   },
   "outputs": [],
   "source": [
    "# EXAMPLE \n",
    "\n",
    "0 < -1"
   ]
  },
  {
   "cell_type": "code",
   "execution_count": null,
   "metadata": {
    "id": "6xhQO34CRNyn"
   },
   "outputs": [],
   "source": [
    "# EXAMPLE \n",
    "\n",
    "abs(-2) < abs(2)"
   ]
  },
  {
   "cell_type": "markdown",
   "metadata": {
    "id": "UAR9AGbBRNyn"
   },
   "source": [
    "Now, let's check the type of each of the examples above. We will using the **type** function. "
   ]
  },
  {
   "cell_type": "code",
   "execution_count": null,
   "metadata": {
    "id": "u6ho3qP5RNyo"
   },
   "outputs": [],
   "source": [
    "# EXAMPLE \n",
    "type(0< -1)"
   ]
  },
  {
   "cell_type": "code",
   "execution_count": null,
   "metadata": {
    "id": "RT2lHcNrRNyo"
   },
   "outputs": [],
   "source": [
    "# EXAMPLE  \n",
    "type(abs(-2) < abs(2))"
   ]
  },
  {
   "cell_type": "markdown",
   "metadata": {
    "id": "o-YgKBgwRNyp"
   },
   "source": [
    "Here is a list of **comparison operators**\n",
    "\n",
    "|Operator| Meaning|\n",
    "|--------|---------|\n",
    "|< | less than |\n",
    "|<= | less than or equal to|\n",
    "|> | greater than |\n",
    "|>= | greater than or equal to|\n",
    "|!= | not equal to|\n",
    "|== | equal to|\n",
    "\n",
    "Be careful when using the equal to operator **==**. \n",
    "\n",
    "Recall that **=** is used to assign a value to a variable."
   ]
  },
  {
   "cell_type": "markdown",
   "metadata": {
    "id": "zAdrV2V-RNyp"
   },
   "source": [
    "Let us try some exercises:"
   ]
  },
  {
   "cell_type": "markdown",
   "metadata": {
    "id": "cmMJbjzCRNyq"
   },
   "source": [
    "**Exercise 1**  Write \"4 equal to 'four'\" in code using conditionals."
   ]
  },
  {
   "cell_type": "code",
   "execution_count": null,
   "metadata": {
    "id": "2FCcGQVuRNyq"
   },
   "outputs": [],
   "source": [
    "# YOUR CODE\n"
   ]
  },
  {
   "cell_type": "markdown",
   "metadata": {
    "id": "hAAi1rSURNyq"
   },
   "source": [
    "**Exercise 2**  Write \"2 equal to 1 + 1\" in code using conditionals."
   ]
  },
  {
   "cell_type": "code",
   "execution_count": null,
   "metadata": {
    "id": "kqrlVFe-RNyq"
   },
   "outputs": [],
   "source": [
    "# YOUR CODE \n"
   ]
  },
  {
   "cell_type": "markdown",
   "metadata": {
    "id": "5FsxzPtURNyr"
   },
   "source": [
    "**Exercise 3**  Write \"0 equal to False'\" in code using conditionals."
   ]
  },
  {
   "cell_type": "code",
   "execution_count": null,
   "metadata": {
    "id": "oJXKCZS7RNyr"
   },
   "outputs": [],
   "source": [
    "# YOUR CODE\n"
   ]
  },
  {
   "cell_type": "markdown",
   "metadata": {},
   "source": [
    "## 1.2 Conditional Statements <a id='subsection2'></a>"
   ]
  },
  {
   "cell_type": "markdown",
   "metadata": {
    "id": "g2gr7esVRNys"
   },
   "source": [
    "A conditional statement has the following form:\n",
    "\n",
    "`if <condition>:\n",
    "    <do_something> \n",
    "elif <condition>:\n",
    "    <do_something>\n",
    "else:\n",
    "     <do_something>`\n",
    "        "
   ]
  },
  {
   "cell_type": "code",
   "execution_count": null,
   "metadata": {
    "id": "oeTD90nuRNys"
   },
   "outputs": [],
   "source": [
    "# EXAMPLE\n",
    "\n",
    "if 5 < 6:\n",
    "    print(\"True. 5 is less than 6!\")\n",
    "else:\n",
    "    print(\"False. What is math?\")"
   ]
  },
  {
   "cell_type": "markdown",
   "metadata": {
    "id": "ZPBpXU_lRNys"
   },
   "source": [
    "**How do conditional statements work?**\n",
    "* First, it evaluated the header expression(which is the `if` statement). If the statement is True, then it executes the first suite otherwise, it checks the condition of the `elif`, and so on. \n",
    "* It will only execute the suite (do_something) of the `else` clause, if the conditions of the `if` and `elif` are false (not met). \n",
    "\n",
    "\n",
    "**Some notes about conditional statements:**\n",
    "* You can have as many `elif` expressions as you want, but you can only have one `if` and one `else` statement. \n",
    "* `else` always comes at the end.\n",
    "* You do not always need an `else`.\n",
    "* When you execute a conditional statement, you must ALWAYS consider the order of you statements."
   ]
  },
  {
   "cell_type": "code",
   "execution_count": null,
   "metadata": {
    "id": "oeTD90nuRNys"
   },
   "outputs": [],
   "source": [
    "# EXAMPLE\n",
    "\n",
    "var1 = 200\n",
    "var2 = 200\n",
    "if var2 > var1:\n",
    "    print(\"var2 is greater than var1\")\n",
    "else: \n",
    "    print(\"var2 is less than var1\")"
   ]
  },
  {
   "cell_type": "markdown",
   "metadata": {
    "id": "ZPBpXU_lRNys"
   },
   "source": [
    "Note in the above example, since the condition in the if statement was not met, the else statement is executed. How will you modify the above code to print \"var 1 is equal to var 2\"?"
   ]
  },
  {
   "cell_type": "code",
   "execution_count": null,
   "metadata": {
    "id": "oeTD90nuRNys"
   },
   "outputs": [],
   "source": [
    "# EXERCISE\n",
    "\n",
    "var1 = 200\n",
    "var2 = 200\n",
    "..."
   ]
  },
  {
   "cell_type": "code",
   "execution_count": null,
   "metadata": {
    "id": "2iqj8pKLRNyt"
   },
   "outputs": [],
   "source": [
    "# EXAMPLE \n",
    "\n",
    "if len(\"Maria\") == 5:\n",
    "    print(\"Hello, 5!\")\n",
    "else:\n",
    "    print(\"Hello, 6!\")"
   ]
  },
  {
   "cell_type": "markdown",
   "metadata": {},
   "source": [
    "Before running the example below, guess what the output will be.\n",
    "\n",
    "What might the output be if you change the value of fizzbuzz to 9? 20? 32? Try it out!"
   ]
  },
  {
   "cell_type": "code",
   "execution_count": null,
   "metadata": {
    "id": "VcbbTX_sRNyt",
    "outputId": "c107bd5c-93b5-47c6-dc54-d83ccc12c63a"
   },
   "outputs": [],
   "source": [
    "# EXAMPLE \n",
    "\n",
    "fizzbuzz = 15\n",
    "if fizzbuzz % 3 == 0 and fizzbuzz % 5 == 0:\n",
    "    print(\"fizzbuzz\")\n",
    "elif fizzbuzz % 3 == 0:\n",
    "    print(\"fizz\")\n",
    "elif fizzbuzz % 5 == 0:\n",
    "    print(\"buzz\")"
   ]
  },
  {
   "cell_type": "markdown",
   "metadata": {},
   "source": [
    "If you tried fizzbuzz = 32, you should have seen that the code did not provide any output. This is because all conditionals were evaluated to be false and all print statements were skipped."
   ]
  },
  {
   "cell_type": "code",
   "execution_count": null,
   "metadata": {
    "id": "ODN-DQmNRNyt",
    "outputId": "bcd5f813-730b-479a-bcfc-cf46ff57d5fd"
   },
   "outputs": [],
   "source": [
    "# EXAMPLE \n",
    "\n",
    "var1 = 1\n",
    "var2 = 2\n",
    "if var2 > var1:\n",
    "    var2 = 0\n",
    "print(\"var2 is equal to var1\")"
   ]
  },
  {
   "cell_type": "markdown",
   "metadata": {
    "id": "ZPBpXU_lRNys"
   },
   "source": [
    "The print statement in the above example is not within the scope of the conditional statement. As such, it gets executed regardless of whether the condition is met or not.\n",
    "\n",
    "What is the final value of var2 after running the entire code?"
   ]
  },
  {
   "cell_type": "code",
   "execution_count": null,
   "metadata": {
    "id": "ODN-DQmNRNyt",
    "outputId": "bcd5f813-730b-479a-bcfc-cf46ff57d5fd"
   },
   "outputs": [],
   "source": [
    "# EXERCISE \n",
    "\n",
    "# if the string is equal to \"49ers\", print \"Go Niners\", if not print \"Not my team\". \n",
    "\n",
    "team = \"49ers\"\n"
   ]
  },
  {
   "cell_type": "markdown",
   "metadata": {
    "id": "0ejo7ZSERNy0"
   },
   "source": [
    "**Conditional Statements in Functions**\n",
    "\n",
    "In the cell below, we are going to define a function that will multiply the two numbers you give it only if they are not equal to each other."
   ]
  },
  {
   "cell_type": "code",
   "execution_count": null,
   "metadata": {
    "id": "Gp--59GLRNy0"
   },
   "outputs": [],
   "source": [
    "# EXAMPLE\n",
    "\n",
    "def mult_not_eq(x, y):\n",
    "    # if the first number is not equal to the second\n",
    "    print(x, y)\n",
    "    if x!=y:\n",
    "    # I will multiply them\n",
    "        return x*y\n",
    "    else:\n",
    "        print(\"Use the square function instead\")\n",
    "        \n",
    "        \n",
    "mult_not_eq(2, 2)"
   ]
  },
  {
   "cell_type": "markdown",
   "metadata": {
    "id": "1qQ_NdoRRNy0"
   },
   "source": [
    "Now it's time for you to define a function. Create a function that will add up two numbers, but only if they are not equals."
   ]
  },
  {
   "cell_type": "code",
   "execution_count": null,
   "metadata": {
    "id": "VEawaOJgRNy0"
   },
   "outputs": [],
   "source": [
    "# EXERCISE\n",
    "\n",
    "def sum_not_equals(..., ...):\n",
    "    if ...:\n",
    "        return ...\n",
    "    else:\n",
    "        ...\n",
    "    \n",
    "    \n",
    "sum_not_equals(1, 5)"
   ]
  },
  {
   "cell_type": "markdown",
   "metadata": {
    "id": "1SrPeNFMRNyt"
   },
   "source": [
    "---\n",
    "# Loops <a id='section2'></a>"
   ]
  },
  {
   "cell_type": "markdown",
   "metadata": {
    "id": "Ifx4P63qRNyt"
   },
   "source": [
    "What are loops useful for? \n",
    "- Sometimes we want to perform some operation on a list but doing it on each element individually can be very tedious!\n",
    "- A loop goes through a collection of data types and **executes** some state statement **for each value** in that collection of data. \n",
    "- Examples of data types are: list, array, characters string, dictionary, and other collections"
   ]
  },
  {
   "cell_type": "markdown",
   "metadata": {
    "id": "Tf8bisbsRNyt"
   },
   "source": [
    "---\n",
    "## 2.1 For  Loops <a id='subsection3'></a>"
   ]
  },
  {
   "cell_type": "markdown",
   "metadata": {
    "id": "gsLwtD8BRNyu"
   },
   "source": [
    "Syntax: \n",
    "\n",
    "**for** var **in** iterable:\n",
    "\n",
    "    statement \n",
    "    statement \n",
    "\n",
    "    \n",
    "* var - it takes items from iterable one by one. \n",
    "* iterable - it's a collection of objects.\n",
    "* indentation - loop body MUST be indented.\n",
    "* loop body - first two statements \n"
   ]
  },
  {
   "cell_type": "code",
   "execution_count": null,
   "metadata": {
    "id": "hZB-q1-kRNyu"
   },
   "outputs": [],
   "source": [
    "# EXAMPLE \n",
    "\n",
    "greeting = 'Hello'\n",
    "\n",
    "# to print each letter in greeting without using loop \n",
    "\n",
    "print(greeting[0])\n",
    "print(greeting[1])\n",
    "print(greeting[2])\n",
    "print(greeting[3])\n",
    "print(greeting[4])"
   ]
  },
  {
   "cell_type": "code",
   "execution_count": null,
   "metadata": {
    "id": "hZB-q1-kRNyu"
   },
   "outputs": [],
   "source": [
    "# EXAMPLE \n",
    "\n",
    "greeting = 'Hello'\n",
    "\n",
    "# here we are using the for loop\n",
    "\n",
    "for letter in greeting:\n",
    "\tprint(letter)"
   ]
  },
  {
   "cell_type": "markdown",
   "metadata": {
    "id": "gsLwtD8BRNyu"
   },
   "source": [
    "The for loop helps us write the code in a simpler way with less code we can iterate over. This minimizes confusion, reduces lines of code, and runs faster."
   ]
  },
  {
   "cell_type": "code",
   "execution_count": null,
   "metadata": {
    "id": "hZB-q1-kRNyu"
   },
   "outputs": [],
   "source": [
    "# EXAMPLE \n",
    "\n",
    "# square each value in the list \n",
    "\n",
    "for x in [1,2,3]:\n",
    "    print(x**2)\n",
    "    "
   ]
  },
  {
   "cell_type": "code",
   "execution_count": null,
   "metadata": {
    "id": "Ooy2XzM-RNyu"
   },
   "outputs": [],
   "source": [
    "# EXAMPLE \n",
    "\n",
    "# print each item in the list. \n",
    "# recall that the elements in the list do not have to have the same type \n",
    "\n",
    "for i in [1, 2.0, \"hi!\"]:\n",
    "    print(i)"
   ]
  },
  {
   "cell_type": "markdown",
   "metadata": {
    "id": "S74nDZMJRNyu"
   },
   "source": [
    "Create a for-loop that multiplies every number in the list by 3 (and outputs it on every step)."
   ]
  },
  {
   "cell_type": "code",
   "execution_count": null,
   "metadata": {
    "id": "ECWZ6WCKRNyu"
   },
   "outputs": [],
   "source": [
    "# EXERCISE \n",
    "\n",
    "numbers = [1, 5, 7, 0, 10, 4, 7]\n",
    "\n",
    "for i in ...:\n",
    "    ..."
   ]
  },
  {
   "cell_type": "markdown",
   "metadata": {},
   "source": [
    "For loops can use range functions as well:"
   ]
  },
  {
   "cell_type": "code",
   "execution_count": null,
   "metadata": {
    "id": "aneieb1xRNyu"
   },
   "outputs": [],
   "source": [
    "# EXAMPLE \n",
    "\n",
    "for i in range(5):\n",
    "    print(i)"
   ]
  },
  {
   "cell_type": "code",
   "execution_count": null,
   "metadata": {},
   "outputs": [],
   "source": [
    "#EXAMPLE\n",
    "\n",
    "for i in range(1,7):\n",
    "    print(i)"
   ]
  },
  {
   "cell_type": "code",
   "execution_count": null,
   "metadata": {},
   "outputs": [],
   "source": [
    "#EXERCISE\n",
    "\n",
    "#Print numbers 2 through 8\n",
    "\n",
    "for i in range(...):\n",
    "    print(i)"
   ]
  },
  {
   "cell_type": "code",
   "execution_count": null,
   "metadata": {},
   "outputs": [],
   "source": [
    "#EXERCISE\n",
    "\n",
    "#Print ONLY even numbers between 2 and 8\n",
    "\n",
    "for i in range(...):\n",
    "    print(i)"
   ]
  },
  {
   "cell_type": "code",
   "execution_count": null,
   "metadata": {
    "id": "IVAztdsGRNyu"
   },
   "outputs": [],
   "source": [
    "# EXAMPLE \n",
    "\n",
    "# calculate the area for circles with different radius\n",
    "\n",
    "radiuses = [1, 3, 5, 7, 9]\n",
    "\n",
    "for radius in radiuses: \n",
    "    area = math.pi*radius**2\n",
    "    print(area)"
   ]
  },
  {
   "cell_type": "code",
   "execution_count": null,
   "metadata": {
    "id": "IVAztdsGRNyu"
   },
   "outputs": [],
   "source": [
    "# EXERCISE\n",
    "\n",
    "# calculate the volume of spheres with different radius by modifying the above code \n",
    "\n",
    "radiuses = [1, 3, 5, 7, 9]\n",
    "\n",
    "for radius in radiuses: \n",
    "    ..."
   ]
  },
  {
   "cell_type": "code",
   "execution_count": null,
   "metadata": {
    "id": "IVAztdsGRNyu"
   },
   "outputs": [],
   "source": [
    "# EXAMPLE \n",
    "# Let us see an example that uses our knowledge of lists, conditional statements, and loops\n",
    "\n",
    "# print the colors stored in an array\n",
    "color = [\"green\", \"pink\", \"red\"]\n",
    "for c in color:\n",
    "  print(c) \n",
    "  if c == \"pink\":\n",
    "    break"
   ]
  },
  {
   "cell_type": "markdown",
   "metadata": {},
   "source": [
    "Why did the color **red** not print? "
   ]
  },
  {
   "cell_type": "code",
   "execution_count": null,
   "metadata": {
    "id": "z9lvPz9dRNyv"
   },
   "outputs": [],
   "source": [
    "# EXERCISE\n",
    "\n",
    "#Print only colors that have the letter 'e'\n",
    "color = [\"green\", \"pink\", \"red\"]\n",
    "for c in color:\n",
    "    if ...:\n",
    "        print(c)"
   ]
  },
  {
   "cell_type": "markdown",
   "metadata": {
    "id": "VsD_Z0sjRNyv"
   },
   "source": [
    "As we mentioned before, you can loop through any iterable data type or data sctructure. That means that we can even loop through dictionaries."
   ]
  },
  {
   "cell_type": "code",
   "execution_count": null,
   "metadata": {
    "id": "ZAyinClSRNyv",
    "outputId": "4c11e105-e115-4b5e-d5e3-a918e5f7c80d"
   },
   "outputs": [],
   "source": [
    "# EXAMPLE\n",
    "\n",
    "cities = {1:'New York', 2:'Los Angeles', 3:'Miami', 4:'Chicago'}\n",
    "    \n",
    "for key in cities:\n",
    "    print(key)"
   ]
  },
  {
   "cell_type": "markdown",
   "metadata": {
    "id": "60rKEkgcRNyv"
   },
   "source": [
    "In the cell below, see if you can print out the corresponding value for each key:"
   ]
  },
  {
   "cell_type": "code",
   "execution_count": null,
   "metadata": {
    "id": "wsyNkIlMRNyv"
   },
   "outputs": [],
   "source": [
    "# EXERCISE\n",
    "\n",
    "for key in cities:\n",
    "    print(...)"
   ]
  },
  {
   "cell_type": "markdown",
   "metadata": {
    "id": "PvTQ8Ld8RNyv"
   },
   "source": [
    "---\n",
    "## 2.2 While Loops  <a id='subsection4'></a>"
   ]
  },
  {
   "cell_type": "markdown",
   "metadata": {
    "id": "qZgpDrTmRNyv"
   },
   "source": [
    "Syntax:\n",
    "\n",
    "**while** condition: \n",
    "\n",
    "    statement \n",
    "    statement \n",
    "\n",
    "    \n",
    "* condition - any expression that evaluates to true or false (so, our conditionals!)\n",
    "* loop body - first and second statements. It is excludes as long as the condition is true. \n",
    "* else clause - it is executed if the condition becomes false \n",
    "* indentation - loop body must be indented. "
   ]
  },
  {
   "cell_type": "code",
   "execution_count": null,
   "metadata": {
    "id": "9hKmvAfKRNyw"
   },
   "outputs": [],
   "source": [
    "# EXAMPLE\n",
    "\n",
    "# Iterate until x becomes 0 \n",
    "x = 10\n",
    "while x > 0:\n",
    "    print(x)\n",
    "    x = x-1"
   ]
  },
  {
   "cell_type": "code",
   "execution_count": null,
   "metadata": {
    "id": "zeKFGPDrRNyw"
   },
   "outputs": [],
   "source": [
    "# EXAMPLE\n",
    "\n",
    "x = 10\n",
    "while x > 0:\n",
    "    print(x)\n",
    "    x = x - 1\n",
    "else:\n",
    "    print('Done with my countdown!')"
   ]
  },
  {
   "cell_type": "code",
   "execution_count": null,
   "metadata": {
    "id": "4AbFHb5ZRNyw"
   },
   "outputs": [],
   "source": [
    "#EXAMPLE\n",
    "\n",
    "#Add the first 5 natural numbers using the while loop.\n",
    "\n",
    "n = 5  # upper limit\n",
    "sum = 0 #initialize the variable for sum\n",
    "i = 1\n",
    "while i <= n:\n",
    "    sum = sum+ i\n",
    "    i += 1     #increment the counter\n",
    "# print the sum\n",
    "print(\"the sum :\",  sum)"
   ]
  },
  {
   "cell_type": "code",
   "execution_count": null,
   "metadata": {},
   "outputs": [],
   "source": [
    "#EXERCISE\n",
    "\n",
    "#Create a while loop that multiplies the first 5 numbers by 2\n",
    "\n",
    "n = 5\n",
    "i = 1\n",
    "while ...:\n",
    "    print(...)\n",
    "    i += 1"
   ]
  },
  {
   "cell_type": "code",
   "execution_count": null,
   "metadata": {
    "id": "cDANr78eRNyw"
   },
   "outputs": [],
   "source": [
    "# EXERCISE\n",
    "\n",
    "# Create a while loop that prints the square of the first 4 even numbers\n",
    "# Hint use the modulus (%) operator to see if it's even\n",
    "\n",
    "x = 1 \n",
    "while x < 10:\n",
    "    if ...:\n",
    "        print(...)\n",
    "        \n",
    "    x += 1"
   ]
  },
  {
   "cell_type": "markdown",
   "metadata": {
    "id": "93DUvTqMRNy1"
   },
   "source": [
    "---\n",
    "Notebook developed by: Kseniya Usovich, Rachel McCarty, Baishakhi Bose, Alisa Bettale\n"
   ]
  }
 ],
 "metadata": {
  "anaconda-cloud": {},
  "colab": {
   "name": "Day-3.ipynb",
   "provenance": []
  },
  "kernelspec": {
   "display_name": "Python 3",
   "language": "python",
   "name": "python3"
  },
  "language_info": {
   "codemirror_mode": {
    "name": "ipython",
    "version": 3
   },
   "file_extension": ".py",
   "mimetype": "text/x-python",
   "name": "python",
   "nbconvert_exporter": "python",
   "pygments_lexer": "ipython3",
   "version": "3.8.8"
  }
 },
 "nbformat": 4,
 "nbformat_minor": 1
}
